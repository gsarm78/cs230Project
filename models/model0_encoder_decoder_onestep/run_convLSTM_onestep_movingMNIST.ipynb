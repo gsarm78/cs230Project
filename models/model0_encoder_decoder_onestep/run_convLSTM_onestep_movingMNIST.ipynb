{
 "cells": [
  {
   "cell_type": "code",
   "execution_count": 1,
   "metadata": {},
   "outputs": [
    {
     "name": "stdout",
     "output_type": "stream",
     "text": [
      "--2020-03-13 16:34:00--  http://www.cs.toronto.edu/~nitish/unsupervised_video/mnist_test_seq.npy\n",
      "Resolving www.cs.toronto.edu (www.cs.toronto.edu)... 128.100.3.30\n",
      "Connecting to www.cs.toronto.edu (www.cs.toronto.edu)|128.100.3.30|:80... connected.\n",
      "HTTP request sent, awaiting response... 200 OK\n",
      "Length: 819200096 (781M)\n",
      "Saving to: ‘mnist_test_seq.npy.1’\n",
      "\n",
      "mnist_test_seq.npy. 100%[===================>] 781.25M  20.6MB/s    in 39s     \n",
      "\n",
      "2020-03-13 16:34:39 (20.3 MB/s) - ‘mnist_test_seq.npy.1’ saved [819200096/819200096]\n",
      "\n"
     ]
    }
   ],
   "source": [
    "!wget 'http://www.cs.toronto.edu/~nitish/unsupervised_video/mnist_test_seq.npy'"
   ]
  },
  {
   "cell_type": "code",
   "execution_count": null,
   "metadata": {},
   "outputs": [],
   "source": [
    "!python convlstm_onestep.py"
   ]
  }
 ],
 "metadata": {
  "kernelspec": {
   "display_name": "Python 2",
   "language": "python",
   "name": "python2"
  },
  "language_info": {
   "codemirror_mode": {
    "name": "ipython",
    "version": 2
   },
   "file_extension": ".py",
   "mimetype": "text/x-python",
   "name": "python",
   "nbconvert_exporter": "python",
   "pygments_lexer": "ipython2",
   "version": "2.7.12"
  }
 },
 "nbformat": 4,
 "nbformat_minor": 2
}
