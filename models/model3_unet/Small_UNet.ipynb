{
  "nbformat": 4,
  "nbformat_minor": 0,
  "metadata": {
    "colab": {
      "name": "Small_UNet.ipynb",
      "provenance": [],
      "authorship_tag": "ABX9TyMxqjZQaYZxppjoW3+wR97a",
      "include_colab_link": true
    },
    "kernelspec": {
      "name": "python3",
      "display_name": "Python 3"
    }
  },
  "cells": [
    {
      "cell_type": "markdown",
      "metadata": {
        "id": "view-in-github",
        "colab_type": "text"
      },
      "source": [
        "<a href=\"https://colab.research.google.com/github/gsarm78/cs230Project/blob/master/Small_UNet.ipynb\" target=\"_parent\"><img src=\"https://colab.research.google.com/assets/colab-badge.svg\" alt=\"Open In Colab\"/></a>"
      ]
    },
    {
      "cell_type": "markdown",
      "metadata": {
        "id": "y4oWjgDfdbZ-",
        "colab_type": "text"
      },
      "source": [
        "**Nowcasting using U-Net architecture**"
      ]
    },
    {
      "cell_type": "code",
      "metadata": {
        "id": "jqObDMUgdhRG",
        "colab_type": "code",
        "colab": {
          "base_uri": "https://localhost:8080/",
          "height": 80
        },
        "outputId": "77d4fb1c-4d87-4972-dbd1-b350babf7c6b"
      },
      "source": [
        "from tensorflow.keras.models import Model\n",
        "from tensorflow.keras.layers import Input, Conv2D, MaxPooling2D, UpSampling2D, Lambda, Conv2DTranspose, concatenate\n",
        "from tensorflow.keras.optimizers import Adam\n",
        "from tensorflow.keras.callbacks import ModelCheckpoint, LearningRateScheduler\n",
        "from tensorflow.keras import backend as K\n",
        "from scipy.ndimage.measurements import label\n",
        "import time"
      ],
      "execution_count": 1,
      "outputs": [
        {
          "output_type": "display_data",
          "data": {
            "text/html": [
              "<p style=\"color: red;\">\n",
              "The default version of TensorFlow in Colab will soon switch to TensorFlow 2.x.<br>\n",
              "We recommend you <a href=\"https://www.tensorflow.org/guide/migrate\" target=\"_blank\">upgrade</a> now \n",
              "or ensure your notebook will continue to use TensorFlow 1.x via the <code>%tensorflow_version 1.x</code> magic:\n",
              "<a href=\"https://colab.research.google.com/notebooks/tensorflow_version.ipynb\" target=\"_blank\">more info</a>.</p>\n"
            ],
            "text/plain": [
              "<IPython.core.display.HTML object>"
            ]
          },
          "metadata": {
            "tags": []
          }
        }
      ]
    },
    {
      "cell_type": "code",
      "metadata": {
        "id": "zb3zgUFjdp_O",
        "colab_type": "code",
        "colab": {}
      },
      "source": [
        "img_rows = 512\n",
        "img_cols = 512"
      ],
      "execution_count": 0,
      "outputs": []
    },
    {
      "cell_type": "code",
      "metadata": {
        "id": "9FuP-UZUdiP9",
        "colab_type": "code",
        "colab": {}
      },
      "source": [
        "# Defining a small Unet\n",
        "# Smaller Unet defined so it fits in memory\n",
        "\n",
        "\n",
        "def get_small_unet():\n",
        "    inputs = Input((img_rows, img_cols, 1))\n",
        "    inputs_norm = Lambda(lambda x: x/127.5 - 1.)\n",
        "    conv1 = Conv2D(16, (3, 3), activation='relu', padding='same')(inputs)\n",
        "    conv1 = Conv2D(16, (3, 3), activation='relu', padding='same')(conv1)\n",
        "    pool1 = MaxPooling2D(pool_size=(2, 2))(conv1)\n",
        "\n",
        "    conv2 = Conv2D(32, (3, 3), activation='relu', padding='same')(pool1)\n",
        "    conv2 = Conv2D(32, (3, 3), activation='relu', padding='same')(conv2)\n",
        "    pool2 = MaxPooling2D(pool_size=(2, 2))(conv2)\n",
        "\n",
        "    conv3 = Conv2D(64, (3, 3), activation='relu', padding='same')(pool2)\n",
        "    conv3 = Conv2D(64, (3, 3), activation='relu', padding='same')(conv3)\n",
        "    pool3 = MaxPooling2D(pool_size=(2, 2))(conv3)\n",
        "\n",
        "    conv4 = Conv2D(128, (3, 3), activation='relu', padding='same')(pool3)\n",
        "    conv4 = Conv2D(128, (3, 3), activation='relu', padding='same')(conv4)\n",
        "    pool4 = MaxPooling2D(pool_size=(2, 2))(conv4)\n",
        "\n",
        "    conv5 = Conv2D(256, (3, 3), activation='relu', padding='same')(pool4)\n",
        "    conv5 = Conv2D(256, (3, 3), activation='relu', padding='same')(conv5)\n",
        "\n",
        "    up6 = concatenate([Conv2DTranspose(64, kernel_size=(\n",
        "        2, 2), strides=(2, 2), padding='same')(conv5), conv4], axis=3)\n",
        "    conv6 = Conv2D(128, (3, 3), activation='relu', padding='same')(up6)\n",
        "    conv6 = Conv2D(128, (3, 3), activation='relu', padding='same')(conv6)\n",
        "\n",
        "    up7 = concatenate([Conv2DTranspose(32, kernel_size=(\n",
        "        2, 2), strides=(2, 2), padding='same')(conv6), conv3], axis=3)\n",
        "    conv7 = Conv2D(64, (3, 3), activation='relu', padding='same')(up7)\n",
        "    conv7 = Conv2D(64, (3, 3), activation='relu', padding='same')(conv7)\n",
        "\n",
        "    up8 = concatenate([Conv2DTranspose(16, kernel_size=(\n",
        "        2, 2), strides=(2, 2), padding='same')(conv7), conv2], axis=3)\n",
        "    conv8 = Conv2D(32, (3, 3), activation='relu', padding='same')(up8)\n",
        "    conv8 = Conv2D(32, (3, 3), activation='relu', padding='same')(conv8)\n",
        "\n",
        "    up9 = concatenate([Conv2DTranspose(8, kernel_size=(\n",
        "        2, 2), strides=(2, 2), padding='same')(conv8), conv1], axis=3)\n",
        "    conv9 = Conv2D(16, (3, 3), activation='relu', padding='same')(up9)\n",
        "    conv9 = Conv2D(16, (3, 3), activation='relu', padding='same')(conv9)\n",
        "\n",
        "    conv10 = Conv2D(1, (1, 1), activation='sigmoid')(conv9)\n",
        "\n",
        "    model = Model(inputs=inputs, outputs=conv10)\n",
        "\n",
        "    return model"
      ],
      "execution_count": 0,
      "outputs": []
    },
    {
      "cell_type": "code",
      "metadata": {
        "id": "Fgv0UOZsdlie",
        "colab_type": "code",
        "colab": {
          "base_uri": "https://localhost:8080/",
          "height": 88
        },
        "outputId": "d0b44515-e53f-4d9b-f506-dfb9978b3c13"
      },
      "source": [
        "model = get_small_unet()"
      ],
      "execution_count": 6,
      "outputs": [
        {
          "output_type": "stream",
          "text": [
            "WARNING:tensorflow:From /usr/local/lib/python3.6/dist-packages/tensorflow_core/python/ops/resource_variable_ops.py:1630: calling BaseResourceVariable.__init__ (from tensorflow.python.ops.resource_variable_ops) with constraint is deprecated and will be removed in a future version.\n",
            "Instructions for updating:\n",
            "If using Keras pass *_constraint arguments to layers.\n"
          ],
          "name": "stdout"
        }
      ]
    },
    {
      "cell_type": "code",
      "metadata": {
        "id": "O7OiC4EwdniU",
        "colab_type": "code",
        "colab": {}
      },
      "source": [
        "#Define DICE \n",
        "def smooth_dice_coeff(smooth=1.):\n",
        "\n",
        "    smooth = float(smooth)\n",
        "\n",
        "    # IOU or dice coeff calculation\n",
        "    def IOU_calc(y_true, y_pred):\n",
        "            y_true_f = K.flatten(y_true)\n",
        "            y_pred_f = K.flatten(y_pred)\n",
        "            intersection = K.sum(y_true_f * y_pred_f)\n",
        "\n",
        "            return 2*(intersection + smooth) / (K.sum(y_true_f) + K.sum(y_pred_f) + smooth)\n",
        "\n",
        "    def IOU_calc_loss(y_true, y_pred):\n",
        "        return -IOU_calc(y_true, y_pred)\n",
        "    return IOU_calc, IOU_calc_loss\n",
        "\n",
        "IOU_calc, IOU_calc_loss = smooth_dice_coeff(0.00001)"
      ],
      "execution_count": 0,
      "outputs": []
    },
    {
      "cell_type": "code",
      "metadata": {
        "id": "eojQ5Ufhd8Io",
        "colab_type": "code",
        "colab": {}
      },
      "source": [
        "model.compile(optimizer=Adam(lr=1e-4), loss=IOU_calc_loss, metrics=[IOU_calc])"
      ],
      "execution_count": 0,
      "outputs": []
    },
    {
      "cell_type": "code",
      "metadata": {
        "id": "utuWwPGYd8cR",
        "colab_type": "code",
        "colab": {}
      },
      "source": [
        "history = model.fit(X_train, y_train, batch_size=10, epochs=50, verbose=1, validation_split=0.1)"
      ],
      "execution_count": 0,
      "outputs": []
    },
    {
      "cell_type": "code",
      "metadata": {
        "id": "f3Hmk8cqeAHb",
        "colab_type": "code",
        "colab": {}
      },
      "source": [
        ""
      ],
      "execution_count": 0,
      "outputs": []
    },
    {
      "cell_type": "markdown",
      "metadata": {
        "id": "ZndKe307eCAe",
        "colab_type": "text"
      },
      "source": [
        "**Performance**"
      ]
    },
    {
      "cell_type": "code",
      "metadata": {
        "id": "qmLUPYjVeFhX",
        "colab_type": "code",
        "colab": {}
      },
      "source": [
        "plt.figure(figsize=(20, 5))\n",
        "plt.plot(model.history.history['loss'], label='Train loss')\n",
        "plt.plot(model.history.history['val_loss'], label='Val loss')\n",
        "plt.xlabel('Epochs')\n",
        "plt.ylabel('Loss')\n",
        "plt.legend()"
      ],
      "execution_count": 0,
      "outputs": []
    },
    {
      "cell_type": "code",
      "metadata": {
        "id": "JXrqHVfueI9G",
        "colab_type": "code",
        "colab": {}
      },
      "source": [
        "plt.figure(figsize=(20, 5))\n",
        "plt.plot(model.history.history['IOU_calc'], label='Train IOU')\n",
        "plt.plot(model.history.history['val_IOU_calc'], label='Val IOU')\n",
        "plt.xlabel('Epochs')\n",
        "plt.ylabel('IOU')\n",
        "plt.legend()"
      ],
      "execution_count": 0,
      "outputs": []
    },
    {
      "cell_type": "markdown",
      "metadata": {
        "id": "MqECQKpreLjf",
        "colab_type": "text"
      },
      "source": [
        "**Prediction on Test data**"
      ]
    },
    {
      "cell_type": "code",
      "metadata": {
        "id": "o9NFkOjieJ0D",
        "colab_type": "code",
        "colab": {}
      },
      "source": [
        "import numpy as np\n",
        "import cv2\n",
        "\n",
        "\n",
        "def predict_evaluation(pred, image, label):\n",
        "    '''\n",
        "    '''\n",
        "    # transform gray image to rgb\n",
        "    img = np.array(image, np.uint8)\n",
        "    rgb_img = cv2.cvtColor(img, cv2.COLOR_GRAY2RGB)\n",
        "    # scale pred and mask's pixel range to 0~255\n",
        "    im_label = np.array(255*label, dtype=np.uint8)\n",
        "    im_pred = np.array(255*pred, dtype=np.uint8)\n",
        "\n",
        "    # transform both of them to rgb\n",
        "    rgb_label = cv2.cvtColor(im_label, cv2.COLOR_GRAY2RGB)\n",
        "    rgb_pred = cv2.cvtColor(im_pred, cv2.COLOR_GRAY2RGB)\n",
        "\n",
        "    rgb_label[:, :, 1:3] = 0*rgb_label[:, :, 1:2]\n",
        "    rgb_pred[:, :, 0] = 0*rgb_pred[:, :, 0]\n",
        "    rgb_pred[:, :, 2] = 0*rgb_pred[:, :, 2]\n",
        "\n",
        "    img_pred = cv2.addWeighted(rgb_img, 1, rgb_pred, 0.3, 0)\n",
        "    img_label = cv2.addWeighted(rgb_img, 1, rgb_label, 0.3, 0)\n",
        "\n",
        "    plt.figure(figsize=(10, 10))\n",
        "\n",
        "    plt.subplot(1, 3, 1)\n",
        "    plt.imshow(rgb_img)\n",
        "    plt.title('Original image')\n",
        "    plt.axis('off')\n",
        "    plt.subplot(1, 3, 2)\n",
        "    plt.imshow(img_pred)\n",
        "    plt.title('Prediction')\n",
        "    plt.axis('off')\n",
        "    plt.subplot(1, 3, 3)\n",
        "    plt.imshow(img_label)\n",
        "    plt.title('Ground truth')\n",
        "    plt.axis('off')"
      ],
      "execution_count": 0,
      "outputs": []
    },
    {
      "cell_type": "code",
      "metadata": {
        "id": "Ck4RqCr1eSXH",
        "colab_type": "code",
        "colab": {}
      },
      "source": [
        "predict_evaluation(predict[0,:,:,0], X_test[0,:,:,0], y_test[0,:,:,0])"
      ],
      "execution_count": 0,
      "outputs": []
    },
    {
      "cell_type": "code",
      "metadata": {
        "id": "UrFb_PRKeUwG",
        "colab_type": "code",
        "colab": {}
      },
      "source": [
        "predict_evaluation(predict[1,:,:,0], X_test[1,:,:,0], y_test[1,:,:,0])"
      ],
      "execution_count": 0,
      "outputs": []
    },
    {
      "cell_type": "code",
      "metadata": {
        "id": "25VF_fZOebUj",
        "colab_type": "code",
        "colab": {}
      },
      "source": [
        "predict_evaluation(predict[2,:,:,0], X_test[2,:,:,0], y_test[2,:,:,0])"
      ],
      "execution_count": 0,
      "outputs": []
    },
    {
      "cell_type": "code",
      "metadata": {
        "id": "zhHFlibLedeY",
        "colab_type": "code",
        "colab": {}
      },
      "source": [
        "predict_evaluation(predict[3,:,:,0], X_test[3,:,:,0], y_test[3,:,:,0])"
      ],
      "execution_count": 0,
      "outputs": []
    }
  ]
}