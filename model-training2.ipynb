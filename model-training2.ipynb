{
 "cells": [
  {
   "cell_type": "markdown",
   "metadata": {},
   "source": [
    "READ IMAGES FROM \"SAMPLES\" folder, in sequence.\n",
    "\n",
    "Create a NumPy archieve (NPZ is a file format by numpy that provides storage of array data using gzip compression) named \"sequence_array.npz\", containing the sequence of the images from them 'Samples' folder, as a Numpy array.\n",
    "\n",
    "(Requires packages: Pillow, Tensorflow=1.15, Keras)\n",
    "(conda install Pillow tensorflow=1.15 keras)\n",
    "\n",
    "----THIS IS BASED ON TF 2.0 ----"
   ]
  },
  {
   "cell_type": "code",
   "execution_count": 1,
   "metadata": {},
   "outputs": [
    {
     "name": "stdout",
     "output_type": "stream",
     "text": [
      "1\n",
      "2020-02-06 13:43:38\n",
      "2\n",
      "2020-02-06 13:43:38\n",
      "3\n",
      "2020-02-06 13:43:38\n",
      "4\n",
      "2020-02-06 13:43:38\n",
      "5\n",
      "2020-02-06 13:43:38\n",
      "6\n",
      "2020-02-06 13:43:39\n",
      "7\n",
      "2020-02-06 13:43:39\n",
      "8\n",
      "2020-02-06 13:43:39\n",
      "9\n",
      "2020-02-06 13:43:39\n",
      "10\n",
      "2020-02-06 13:43:39\n",
      "11\n",
      "2020-02-06 13:43:39\n",
      "12\n",
      "2020-02-06 13:43:39\n",
      "13\n",
      "2020-02-06 13:43:39\n",
      "14\n",
      "2020-02-06 13:43:39\n",
      "15\n",
      "2020-02-06 13:43:39\n",
      "16\n",
      "2020-02-06 13:43:39\n",
      "17\n",
      "2020-02-06 13:43:39\n",
      "18\n",
      "2020-02-06 13:43:39\n",
      "19\n",
      "2020-02-06 13:43:39\n",
      "20\n",
      "2020-02-06 13:43:39\n",
      "21\n",
      "2020-02-06 13:43:40\n",
      "22\n",
      "2020-02-06 13:43:40\n",
      "23\n",
      "2020-02-06 13:43:40\n",
      "24\n",
      "2020-02-06 13:43:40\n",
      "25\n",
      "2020-02-06 13:43:40\n",
      "26\n",
      "2020-02-06 13:43:40\n",
      "27\n",
      "2020-02-06 13:43:40\n",
      "28\n",
      "2020-02-06 13:43:40\n",
      "29\n",
      "2020-02-06 13:43:40\n",
      "30\n",
      "2020-02-06 13:43:40\n",
      "31\n",
      "2020-02-06 13:43:40\n",
      "32\n",
      "2020-02-06 13:43:40\n",
      "33\n",
      "2020-02-06 13:43:40\n",
      "34\n",
      "2020-02-06 13:43:40\n",
      "35\n",
      "2020-02-06 13:43:40\n",
      "36\n",
      "2020-02-06 13:43:41\n",
      "37\n",
      "2020-02-06 13:43:41\n",
      "38\n",
      "2020-02-06 13:43:41\n",
      "39\n",
      "2020-02-06 13:43:41\n",
      "40\n",
      "2020-02-06 13:43:41\n",
      "41\n",
      "2020-02-06 13:43:41\n",
      "42\n",
      "2020-02-06 13:43:41\n",
      "43\n",
      "2020-02-06 13:43:41\n",
      "44\n",
      "2020-02-06 13:43:41\n",
      "45\n",
      "2020-02-06 13:43:41\n",
      "46\n",
      "2020-02-06 13:43:41\n",
      "47\n",
      "2020-02-06 13:43:41\n",
      "48\n",
      "2020-02-06 13:43:41\n",
      "49\n",
      "2020-02-06 13:43:41\n",
      "50\n",
      "2020-02-06 13:43:41\n",
      "51\n",
      "2020-02-06 13:43:42\n",
      "52\n",
      "2020-02-06 13:43:42\n",
      "53\n",
      "2020-02-06 13:43:42\n",
      "54\n",
      "2020-02-06 13:43:42\n",
      "55\n",
      "2020-02-06 13:43:42\n",
      "56\n",
      "2020-02-06 13:43:42\n",
      "57\n",
      "2020-02-06 13:43:42\n",
      "58\n",
      "2020-02-06 13:43:42\n",
      "59\n",
      "2020-02-06 13:43:42\n",
      "60\n",
      "2020-02-06 13:43:42\n",
      "61\n",
      "2020-02-06 13:43:42\n",
      "62\n",
      "2020-02-06 13:43:42\n",
      "63\n",
      "2020-02-06 13:43:42\n",
      "64\n",
      "2020-02-06 13:43:42\n",
      "65\n",
      "2020-02-06 13:43:42\n",
      "66\n",
      "2020-02-06 13:43:43\n",
      "67\n",
      "2020-02-06 13:43:43\n",
      "68\n",
      "2020-02-06 13:43:43\n",
      "69\n",
      "2020-02-06 13:43:43\n",
      "70\n",
      "2020-02-06 13:43:43\n",
      "71\n",
      "2020-02-06 13:43:43\n",
      "72\n",
      "2020-02-06 13:43:43\n",
      "73\n",
      "2020-02-06 13:43:43\n",
      "74\n",
      "2020-02-06 13:43:43\n",
      "75\n",
      "2020-02-06 13:43:43\n",
      "76\n",
      "2020-02-06 13:43:43\n",
      "77\n",
      "2020-02-06 13:43:43\n",
      "78\n",
      "2020-02-06 13:43:43\n",
      "79\n",
      "2020-02-06 13:43:43\n",
      "80\n",
      "2020-02-06 13:43:43\n",
      "Data saved.\n",
      "2020-02-06 13:43:44\n"
     ]
    }
   ],
   "source": [
    "import numpy as np\n",
    "from PIL import Image\n",
    "import matplotlib.pyplot as plt\n",
    "import os\n",
    "import time\n",
    "\n",
    "IMAGE_PATH = './samples/'\n",
    "\n",
    "WIDTH = 100\n",
    "HEIGHT = 100\n",
    "SEQUENCE = np.array([])\n",
    "BASIC_SEQUENCE = np.array([])\n",
    "NEXT_SEQUENCE = np.array([])\n",
    "NUMBER = 0\n",
    "\n",
    "def image_initialize(image):\n",
    "    picture = Image.open(image)\n",
    "    picture = picture.crop((243, 176, 1428, 1280))\n",
    "    picture = picture.resize((WIDTH, HEIGHT), Image.ANTIALIAS)\n",
    "    picture = picture.convert('L')\n",
    "    picture.save('./temp/1.png')\n",
    "    data = np.array(picture.getdata()).reshape(WIDTH, HEIGHT, 1)\n",
    "    return data\n",
    "\n",
    "for file in os.listdir(IMAGE_PATH):\n",
    "    image_array = image_initialize(os.path.join(IMAGE_PATH, file))\n",
    "    SEQUENCE = np.append(SEQUENCE, image_array)\n",
    "    NUMBER += 1\n",
    "    print(NUMBER)\n",
    "    print(time.strftime('%Y-%m-%d %H:%M:%S', time.localtime()))\n",
    "\n",
    "SEQUENCE = SEQUENCE.reshape(NUMBER, WIDTH * HEIGHT)\n",
    "for i in SEQUENCE:\n",
    "    for j in range(int(len(i))):\n",
    "        if i[j] < 50:\n",
    "            i[j] = 0\n",
    "\n",
    "\n",
    "np.savez('sequence_array.npz', sequence_array=SEQUENCE)\n",
    "print('Data saved.')\n",
    "print(time.strftime('%Y-%m-%d %H:%M:%S', time.localtime()))"
   ]
  },
  {
   "cell_type": "code",
   "execution_count": 5,
   "metadata": {},
   "outputs": [
    {
     "name": "stdout",
     "output_type": "stream",
     "text": [
      "[[0. 0. 0. ... 0. 0. 0.]\n",
      " [0. 0. 0. ... 0. 0. 0.]\n",
      " [0. 0. 0. ... 0. 0. 0.]\n",
      " ...\n",
      " [0. 0. 0. ... 0. 0. 0.]\n",
      " [0. 0. 0. ... 0. 0. 0.]\n",
      " [0. 0. 0. ... 0. 0. 0.]]\n"
     ]
    }
   ],
   "source": [
    "# Check the array with the images\n",
    "# opening the archive and accessing each array by name\n",
    "with np.load(\"sequence_array.npz\") as my_archive_file:\n",
    "    out0 = my_archive_file[\"sequence_array\"]\n",
    "print(out0)"
   ]
  },
  {
   "cell_type": "markdown",
   "metadata": {},
   "source": [
    "## MODEL TO TRAIN THE CONVLSTM ##\n"
   ]
  },
  {
   "cell_type": "code",
   "execution_count": 9,
   "metadata": {},
   "outputs": [
    {
     "data": {
      "text/plain": [
       "'\\nfrom keras.utils import multi_gpu_model\\nfrom keras import optimizers\\n'"
      ]
     },
     "execution_count": 9,
     "metadata": {},
     "output_type": "execute_result"
    }
   ],
   "source": [
    "from __future__ import absolute_import, division, print_function, unicode_literals\n",
    "\n",
    "import tensorflow as tf\n",
    "from tensorflow import keras\n",
    "from tensorflow.keras import datasets, layers, models\n",
    "import matplotlib.pyplot as plt\n",
    "from PIL import Image\n",
    "import numpy as np\n",
    "import os\n",
    "import time\n",
    "\n",
    "\n",
    "\n",
    "\n",
    "'''\n",
    "from keras.models import Sequential\n",
    "from keras.layers.convolutional import Conv3D\n",
    "from keras.layers.convolutional_recurrent import ConvLSTM2D\n",
    "from keras.layers.normalization import BatchNormalization\n",
    "import matplotlib.pyplot as plt\n",
    "'''\n",
    "\n",
    "'''\n",
    "from keras.utils import multi_gpu_model\n",
    "from keras import optimizers\n",
    "'''\n"
   ]
  },
  {
   "cell_type": "code",
   "execution_count": null,
   "metadata": {},
   "outputs": [],
   "source": [
    "WIDTH = 100\n",
    "HEIGHT = 100\n",
    "FRAMES = 16\n",
    "\n",
    "SEQUENCE = np.load('sequence_array.npz')['sequence_array']  # load array\n",
    "print(SEQUENCE[16])\n",
    "print('Data loaded.')\n",
    "\n",
    "#print(time.strftime('%Y-%m-%d %H:%M:%S', time.localtime()))\n",
    "NUMBER = len(SEQUENCE)\n",
    "# step =1\n",
    "SEQUENCE = SEQUENCE.reshape(NUMBER, WIDTH, HEIGHT, 1)\n",
    "\n",
    "# step =2\n",
    "SEQUENCE_2 = []\n",
    "for i in range(int(NUMBER / 2)):\n",
    "    SEQUENCE_2.append(SEQUENCE[2 * i])\n",
    "\n",
    "# step = 3\n",
    "SEQUENCE_3 = []\n",
    "for i in range(int(NUMBER / 3)):\n",
    "    SEQUENCE_3.append(SEQUENCE[3 * i])"
   ]
  },
  {
   "cell_type": "code",
   "execution_count": null,
   "metadata": {},
   "outputs": [],
   "source": [
    "'''\n",
    "SEQUENCE = SEQUENCE.reshape(NUMBER, WIDTH, HEIGHT, 1)\n",
    "print(SEQUENCE)\n",
    "BASIC_SEQUENCE = np.zeros((NUMBER-FRAMES, FRAMES, WIDTH, HEIGHT, 1))\n",
    "print(BASIC_SEQUENCE)\n",
    "NEXT_SEQUENCE = np.zeros((NUMBER-FRAMES, FRAMES, WIDTH, HEIGHT, 1))\n",
    "print(NEXT_SEQUENCE)\n",
    "'''"
   ]
  },
  {
   "cell_type": "code",
   "execution_count": 10,
   "metadata": {},
   "outputs": [
    {
     "ename": "NameError",
     "evalue": "name 'FRAMES' is not defined",
     "output_type": "error",
     "traceback": [
      "\u001b[0;31m---------------------------------------------------------------------------\u001b[0m",
      "\u001b[0;31mNameError\u001b[0m                                 Traceback (most recent call last)",
      "\u001b[0;32m<ipython-input-10-d4248eedb858>\u001b[0m in \u001b[0;36m<module>\u001b[0;34m\u001b[0m\n\u001b[0;32m----> 1\u001b[0;31m \u001b[0;32mfor\u001b[0m \u001b[0mi\u001b[0m \u001b[0;32min\u001b[0m \u001b[0mrange\u001b[0m\u001b[0;34m(\u001b[0m\u001b[0mFRAMES\u001b[0m\u001b[0;34m)\u001b[0m\u001b[0;34m:\u001b[0m\u001b[0;34m\u001b[0m\u001b[0;34m\u001b[0m\u001b[0m\n\u001b[0m\u001b[1;32m      2\u001b[0m     \u001b[0;31m#plt.imshow(BASIC_SEQUENCE[0][0].reshape(100, 100))\u001b[0m\u001b[0;34m\u001b[0m\u001b[0;34m\u001b[0m\u001b[0;34m\u001b[0m\u001b[0m\n\u001b[1;32m      3\u001b[0m     \u001b[0;31m#plt.show()\u001b[0m\u001b[0;34m\u001b[0m\u001b[0;34m\u001b[0m\u001b[0;34m\u001b[0m\u001b[0m\n\u001b[1;32m      4\u001b[0m \u001b[0;34m\u001b[0m\u001b[0m\n\u001b[1;32m      5\u001b[0m     \u001b[0mmodel\u001b[0m \u001b[0;34m=\u001b[0m \u001b[0mmodels\u001b[0m\u001b[0;34m.\u001b[0m\u001b[0mSequential\u001b[0m\u001b[0;34m(\u001b[0m\u001b[0;34m)\u001b[0m\u001b[0;34m\u001b[0m\u001b[0;34m\u001b[0m\u001b[0m\n",
      "\u001b[0;31mNameError\u001b[0m: name 'FRAMES' is not defined"
     ]
    }
   ],
   "source": [
    "for i in range(FRAMES):\n",
    "    #plt.imshow(BASIC_SEQUENCE[0][0].reshape(100, 100))\n",
    "    #plt.show()\n",
    "    \n",
    "    model = Sequential()\n",
    "\n",
    "    model.add(ConvLSTM2D(filters=40, kernel_size=(3, 3),input_shape=(None, WIDTH, HEIGHT, 1), padding='same', return_sequences=True))\n",
    "    model.add(BatchNormalization())\n",
    "\n",
    "    model.add(ConvLSTM2D(filters=60, kernel_size=(3, 3), padding='same', return_sequences=True))\n",
    "    model.add(BatchNormalization())\n",
    "\n",
    "    model.add(ConvLSTM2D(filters=60, kernel_size=(3, 3), padding='same', return_sequences=True))\n",
    "    model.add(BatchNormalization())\n",
    "\n",
    "    model.add(ConvLSTM2D(filters=40, kernel_size=(3, 3), padding='same', return_sequences=True))\n",
    "    model.add(BatchNormalization())\n",
    "\n",
    "    model.add(Conv3D(filters=1, kernel_size=(3, 3, 3), activation='sigmoid', padding='same', data_format='channels_last'))\n",
    "    \n",
    "     \n",
    "    # For a multi-class classification problem (https://keras.io/getting-started/sequential-model-guide/)\n",
    "    model.compile(optimizer='rmsprop', loss='categorical_crossentropy', metrics=['accuracy'])\n",
    "\n",
    "    # Model Summary; Training parameters etc...\n",
    "    model.summary()\n"
   ]
  },
  {
   "cell_type": "markdown",
   "metadata": {},
   "source": [
    "#### TEST MODEL ####"
   ]
  },
  {
   "cell_type": "code",
   "execution_count": 14,
   "metadata": {},
   "outputs": [],
   "source": [
    "seq = models.Sequential()\n",
    "\n",
    "seq.add(layers.ConvLSTM2D(filters=40, kernel_size=(3, 3),\n",
    "                   input_shape=(None, 40, 40, 1),\n",
    "                   padding='same', return_sequences=True))\n",
    "seq.add(layers.BatchNormalization())\n",
    "\n",
    "seq.add(layers.ConvLSTM2D(filters=40, kernel_size=(3, 3),\n",
    "                   padding='same', return_sequences=True))\n",
    "seq.add(layers.BatchNormalization())\n",
    "\n",
    "seq.add(layers.ConvLSTM2D(filters=40, kernel_size=(3, 3),\n",
    "                   padding='same', return_sequences=True))\n",
    "seq.add(layers.BatchNormalization())\n",
    "\n",
    "seq.add(layers.ConvLSTM2D(filters=40, kernel_size=(3, 3),\n",
    "                   padding='same', return_sequences=True))\n",
    "seq.add(layers.BatchNormalization())\n",
    "\n",
    "seq.add(layers.Conv3D(filters=1, kernel_size=(3, 3, 3),\n",
    "               activation='sigmoid',\n",
    "               padding='same', data_format='channels_last'))\n",
    "seq.compile(loss='binary_crossentropy', optimizer='adadelta')"
   ]
  },
  {
   "cell_type": "markdown",
   "metadata": {},
   "source": [
    "######### TEST ###########\n",
    " FAKE IMAGE GENERATION\n",
    "#########################"
   ]
  },
  {
   "cell_type": "code",
   "execution_count": 15,
   "metadata": {},
   "outputs": [],
   "source": [
    "def generate_movies(n_samples=1200, n_frames=15):\n",
    "    row = 80\n",
    "    col = 80\n",
    "    noisy_movies = np.zeros((n_samples, n_frames, row, col, 1), dtype=np.float)\n",
    "    shifted_movies = np.zeros((n_samples, n_frames, row, col, 1),\n",
    "                              dtype=np.float)\n",
    "\n",
    "    for i in range(n_samples):\n",
    "        # Add 3 to 7 moving squares\n",
    "        n = np.random.randint(3, 8)\n",
    "\n",
    "        for j in range(n):\n",
    "            # Initial position\n",
    "            xstart = np.random.randint(20, 60)\n",
    "            ystart = np.random.randint(20, 60)\n",
    "            # Direction of motion\n",
    "            directionx = np.random.randint(0, 3) - 1\n",
    "            directiony = np.random.randint(0, 3) - 1\n",
    "\n",
    "            # Size of the square\n",
    "            w = np.random.randint(2, 4)\n",
    "\n",
    "            for t in range(n_frames):\n",
    "                x_shift = xstart + directionx * t\n",
    "                y_shift = ystart + directiony * t\n",
    "                noisy_movies[i, t, x_shift - w: x_shift + w,\n",
    "                             y_shift - w: y_shift + w, 0] += 1\n",
    "\n",
    "                # Make it more robust by adding noise.\n",
    "                # The idea is that if during inference,\n",
    "                # the value of the pixel is not exactly one,\n",
    "                # we need to train the network to be robust and still\n",
    "                # consider it as a pixel belonging to a square.\n",
    "                if np.random.randint(0, 2):\n",
    "                    noise_f = (-1)**np.random.randint(0, 2)\n",
    "                    noisy_movies[i, t,\n",
    "                                 x_shift - w - 1: x_shift + w + 1,\n",
    "                                 y_shift - w - 1: y_shift + w + 1,\n",
    "                                 0] += noise_f * 0.1\n",
    "\n",
    "                # Shift the ground truth by 1\n",
    "                x_shift = xstart + directionx * (t + 1)\n",
    "                y_shift = ystart + directiony * (t + 1)\n",
    "                shifted_movies[i, t, x_shift - w: x_shift + w,\n",
    "                               y_shift - w: y_shift + w, 0] += 1\n",
    "\n",
    "    # Cut to a 40x40 window\n",
    "    noisy_movies = noisy_movies[::, ::, 20:60, 20:60, ::]\n",
    "    shifted_movies = shifted_movies[::, ::, 20:60, 20:60, ::]\n",
    "    noisy_movies[noisy_movies >= 1] = 1\n",
    "    shifted_movies[shifted_movies >= 1] = 1\n",
    "    return noisy_movies, shifted_movies"
   ]
  },
  {
   "cell_type": "code",
   "execution_count": 16,
   "metadata": {},
   "outputs": [
    {
     "data": {
      "text/plain": [
       "((1200, 15, 40, 40, 1), (1200, 15, 40, 40, 1))"
      ]
     },
     "execution_count": 16,
     "metadata": {},
     "output_type": "execute_result"
    }
   ],
   "source": [
    "noisy_movies, shifted_movies = generate_movies(n_samples=1200)\n",
    "noisy_movies.shape, shifted_movies.shape"
   ]
  },
  {
   "cell_type": "code",
   "execution_count": 18,
   "metadata": {},
   "outputs": [
    {
     "name": "stdout",
     "output_type": "stream",
     "text": [
      "CPU times: user 2 µs, sys: 0 ns, total: 2 µs\n",
      "Wall time: 5.96 µs\n",
      "Train on 950 samples, validate on 50 samples\n",
      "Epoch 1/5\n",
      "950/950 [==============================] - 872s 918ms/sample - loss: 0.9204 - val_loss: 0.7229\n",
      "Epoch 2/5\n",
      "950/950 [==============================] - 867s 913ms/sample - loss: 0.7839 - val_loss: 0.6978\n",
      "Epoch 3/5\n",
      "950/950 [==============================] - 902s 950ms/sample - loss: 0.7439 - val_loss: 0.6191\n",
      "Epoch 4/5\n",
      "950/950 [==============================] - 914s 962ms/sample - loss: 0.7137 - val_loss: 0.5619\n",
      "Epoch 5/5\n",
      "950/950 [==============================] - 890s 937ms/sample - loss: 0.6880 - val_loss: 0.5599\n"
     ]
    },
    {
     "data": {
      "text/plain": [
       "<tensorflow.python.keras.callbacks.History at 0x6d4c11890>"
      ]
     },
     "execution_count": 18,
     "metadata": {},
     "output_type": "execute_result"
    }
   ],
   "source": [
    "#### TRAIN THE NETWORK #####\n",
    "%time\n",
    "seq.fit(noisy_movies[:1000], shifted_movies[:1000], batch_size=10, epochs=5, validation_split=0.05)"
   ]
  },
  {
   "cell_type": "code",
   "execution_count": 2,
   "metadata": {},
   "outputs": [
    {
     "ename": "NameError",
     "evalue": "name 'noisy_movies' is not defined",
     "output_type": "error",
     "traceback": [
      "\u001b[0;31m---------------------------------------------------------------------------\u001b[0m",
      "\u001b[0;31mNameError\u001b[0m                                 Traceback (most recent call last)",
      "\u001b[0;32m<ipython-input-2-90c1d61cc12c>\u001b[0m in \u001b[0;36m<module>\u001b[0;34m\u001b[0m\n\u001b[1;32m      5\u001b[0m \u001b[0;34m\u001b[0m\u001b[0m\n\u001b[1;32m      6\u001b[0m \u001b[0mwhich\u001b[0m \u001b[0;34m=\u001b[0m \u001b[0;36m1004\u001b[0m\u001b[0;34m\u001b[0m\u001b[0;34m\u001b[0m\u001b[0m\n\u001b[0;32m----> 7\u001b[0;31m \u001b[0mtrack\u001b[0m \u001b[0;34m=\u001b[0m \u001b[0mnoisy_movies\u001b[0m\u001b[0;34m[\u001b[0m\u001b[0mwhich\u001b[0m\u001b[0;34m]\u001b[0m\u001b[0;34m[\u001b[0m\u001b[0;34m:\u001b[0m\u001b[0;36m7\u001b[0m\u001b[0;34m,\u001b[0m \u001b[0;34m:\u001b[0m\u001b[0;34m:\u001b[0m\u001b[0;34m,\u001b[0m \u001b[0;34m:\u001b[0m\u001b[0;34m:\u001b[0m\u001b[0;34m,\u001b[0m \u001b[0;34m:\u001b[0m\u001b[0;34m:\u001b[0m\u001b[0;34m]\u001b[0m\u001b[0;34m\u001b[0m\u001b[0;34m\u001b[0m\u001b[0m\n\u001b[0m\u001b[1;32m      8\u001b[0m \u001b[0mtrack\u001b[0m\u001b[0;34m.\u001b[0m\u001b[0mshape\u001b[0m\u001b[0;34m,\u001b[0m \u001b[0mtrack\u001b[0m\u001b[0;34m[\u001b[0m\u001b[0mnp\u001b[0m\u001b[0;34m.\u001b[0m\u001b[0mnewaxis\u001b[0m\u001b[0;34m,\u001b[0m \u001b[0;34m:\u001b[0m\u001b[0;34m:\u001b[0m\u001b[0;34m,\u001b[0m \u001b[0;34m:\u001b[0m\u001b[0;34m:\u001b[0m\u001b[0;34m,\u001b[0m \u001b[0;34m:\u001b[0m\u001b[0;34m:\u001b[0m\u001b[0;34m,\u001b[0m \u001b[0;34m:\u001b[0m\u001b[0;34m:\u001b[0m\u001b[0;34m]\u001b[0m\u001b[0;34m.\u001b[0m\u001b[0mshape\u001b[0m\u001b[0;34m\u001b[0m\u001b[0;34m\u001b[0m\u001b[0m\n\u001b[1;32m      9\u001b[0m \u001b[0;32mfor\u001b[0m \u001b[0mj\u001b[0m \u001b[0;32min\u001b[0m \u001b[0mrange\u001b[0m\u001b[0;34m(\u001b[0m\u001b[0;36m16\u001b[0m\u001b[0;34m)\u001b[0m\u001b[0;34m:\u001b[0m\u001b[0;34m\u001b[0m\u001b[0;34m\u001b[0m\u001b[0m\n",
      "\u001b[0;31mNameError\u001b[0m: name 'noisy_movies' is not defined"
     ]
    }
   ],
   "source": [
    "'''\n",
    "Testing the network on one movie\n",
    "Feed it with the first 7 positions and then predict the new positions\n",
    "'''\n",
    "\n",
    "which = 1004\n",
    "track = noisy_movies[which][:7, ::, ::, ::]\n",
    "track.shape, track[np.newaxis, ::, ::, ::, ::].shape\n",
    "for j in range(16):\n",
    "    new_pos = seq.predict(track[np.newaxis, ::, ::, ::, ::]) # (1, 7, 40, 40, 1)\n",
    "    new = new_pos[::, -1, ::, ::, ::] # (1, 40, 40, 1)\n",
    "    track = np.concatenate((track, new), axis=0) # adds +1 to the first dimension in each loop cycle"
   ]
  },
  {
   "cell_type": "code",
   "execution_count": 1,
   "metadata": {},
   "outputs": [
    {
     "ename": "NameError",
     "evalue": "name 'noisy_movies' is not defined",
     "output_type": "error",
     "traceback": [
      "\u001b[0;31m---------------------------------------------------------------------------\u001b[0m",
      "\u001b[0;31mNameError\u001b[0m                                 Traceback (most recent call last)",
      "\u001b[0;32m<ipython-input-1-28fab44a278b>\u001b[0m in \u001b[0;36m<module>\u001b[0;34m\u001b[0m\n\u001b[1;32m      3\u001b[0m '''\n\u001b[1;32m      4\u001b[0m \u001b[0;34m\u001b[0m\u001b[0m\n\u001b[0;32m----> 5\u001b[0;31m \u001b[0mtrack2\u001b[0m \u001b[0;34m=\u001b[0m \u001b[0mnoisy_movies\u001b[0m\u001b[0;34m[\u001b[0m\u001b[0mwhich\u001b[0m\u001b[0;34m]\u001b[0m\u001b[0;34m[\u001b[0m\u001b[0;34m:\u001b[0m\u001b[0;34m:\u001b[0m\u001b[0;34m,\u001b[0m \u001b[0;34m:\u001b[0m\u001b[0;34m:\u001b[0m\u001b[0;34m,\u001b[0m \u001b[0;34m:\u001b[0m\u001b[0;34m:\u001b[0m\u001b[0;34m,\u001b[0m \u001b[0;34m:\u001b[0m\u001b[0;34m:\u001b[0m\u001b[0;34m]\u001b[0m\u001b[0;34m\u001b[0m\u001b[0;34m\u001b[0m\u001b[0m\n\u001b[0m\u001b[1;32m      6\u001b[0m \u001b[0;34m\u001b[0m\u001b[0m\n\u001b[1;32m      7\u001b[0m \u001b[0;32mfor\u001b[0m \u001b[0mi\u001b[0m \u001b[0;32min\u001b[0m \u001b[0mrange\u001b[0m\u001b[0;34m(\u001b[0m\u001b[0;36m15\u001b[0m\u001b[0;34m)\u001b[0m\u001b[0;34m:\u001b[0m\u001b[0;34m\u001b[0m\u001b[0;34m\u001b[0m\u001b[0m\n",
      "\u001b[0;31mNameError\u001b[0m: name 'noisy_movies' is not defined"
     ]
    }
   ],
   "source": [
    "'''\n",
    "####  COMPARE PREDICTIONS WITH GROUND TRUTH ###\n",
    "'''\n",
    "\n",
    "track2 = noisy_movies[which][::, ::, ::, ::]\n",
    "\n",
    "for i in range(15):\n",
    "    fig = plt.figure(figsize=(10, 5))\n",
    "\n",
    "    ax = fig.add_subplot(121)\n",
    "\n",
    "    if i >= 7:\n",
    "        ax.text(1, 3, 'Predictions !', fontsize=20, color='w')\n",
    "    else:\n",
    "        ax.text(1, 3, 'Initial trajectory', fontsize=20)\n",
    "\n",
    "    toplot = track[i, ::, ::, 0]\n",
    "\n",
    "    plt.imshow(toplot)\n",
    "    ax = fig.add_subplot(122)\n",
    "    plt.text(1, 3, 'Ground truth', fontsize=20)\n",
    "\n",
    "    toplot = track2[i, ::, ::, 0]\n",
    "    if i >= 2:\n",
    "        toplot = shifted_movies[which][i - 1, ::, ::, 0]\n",
    "\n",
    "    plt.imshow(toplot)\n",
    "    plt.savefig('%i_animate.png' % (i + 1))"
   ]
  },
  {
   "cell_type": "code",
   "execution_count": null,
   "metadata": {},
   "outputs": [],
   "source": []
  }
 ],
 "metadata": {
  "kernelspec": {
   "display_name": "Python 3",
   "language": "python",
   "name": "python3"
  },
  "language_info": {
   "codemirror_mode": {
    "name": "ipython",
    "version": 3
   },
   "file_extension": ".py",
   "mimetype": "text/x-python",
   "name": "python",
   "nbconvert_exporter": "python",
   "pygments_lexer": "ipython3",
   "version": "3.7.6"
  }
 },
 "nbformat": 4,
 "nbformat_minor": 4
}
